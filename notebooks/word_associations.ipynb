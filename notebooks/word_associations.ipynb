{
 "cells": [
  {
   "cell_type": "markdown",
   "metadata": {},
   "source": [
    "# Implementing word associations with SPA\n",
    "author: Ivana Kajić (i2kajic@uwaterloo.ca)"
   ]
  },
  {
   "cell_type": "markdown",
   "metadata": {},
   "source": [
    "Computational simulations of linguistic phenomena require some kind of representation of words. In computational investigations, two kinds of representations have been commonly used: semantic networks and vector-based representations.\n",
    "\n",
    "Each of them entails a specific type of data structure and corresponding algorithms that operate on these structures. The final choice of which representation to use depends on the scientific question being asked.\n",
    "\n",
    "This example uses vector-based representations, which are seen as more biologically plausible due to the way networks of neurons in the brain represent information. In the remainder of this tutorial, an example will be shown that demonstrates how to represent words and associations with the SPA system."
   ]
  },
  {
   "cell_type": "code",
   "execution_count": 153,
   "metadata": {
    "collapsed": false
   },
   "outputs": [],
   "source": [
    "# Python pacakges for this tutorial\n",
    "\n",
    "import nengo\n",
    "import numpy as np\n",
    "import matplotlib.pyplot as plt\n",
    "\n",
    "from nengo import spa"
   ]
  },
  {
   "cell_type": "markdown",
   "metadata": {},
   "source": [
    "## Defining the lexicon and associative relationships\n",
    "\n",
    "To implement words and word associations, two soruces of data are needed:\n",
    "\n",
    "- lexicon: a set of words (e.g, `MOUSE`, `HOUSE`, `CAR`)\n",
    "\n",
    "- associations: associative relationships between the words (e.g., `CAT-MOUSE`, `HOUSE-CAR`)"
   ]
  },
  {
   "cell_type": "markdown",
   "metadata": {},
   "source": [
    "### Representing Words"
   ]
  },
  {
   "cell_type": "markdown",
   "metadata": {},
   "source": [
    "For each word in the lexicon, we assign a $n$-dimensional vector, such that every element of a vector is a real number between (-1, 1). In the SPA system, it is common that the similarity between any of the two vectors representing words in a lexicon is less than 0.1 as measured by the dot product.\n",
    "\n",
    "For a given lexicon of words, a SPA vocabulary containing 64-dimensional vectors for each of the words can be created as:"
   ]
  },
  {
   "cell_type": "code",
   "execution_count": 23,
   "metadata": {
    "collapsed": false
   },
   "outputs": [],
   "source": [
    "lexicon = ['HOUSE', 'MOUSE', 'CAT']\n",
    "vocab = spa.Vocabulary(dimensions=64)\n",
    "\n",
    "for word in lexicon:\n",
    "    vocab.parse(word)"
   ]
  },
  {
   "cell_type": "markdown",
   "metadata": {},
   "source": [
    "We can inspect the contents of a SPA vocabulary:"
   ]
  },
  {
   "cell_type": "code",
   "execution_count": 24,
   "metadata": {
    "collapsed": false
   },
   "outputs": [
    {
     "name": "stdout",
     "output_type": "stream",
     "text": [
      "Words in the vocabulary: ['HOUSE', 'MOUSE', 'CAT']\n",
      "Dimensionality of vectors: (3, 64)\n"
     ]
    }
   ],
   "source": [
    "print 'Words in the vocabulary:', vocab.keys\n",
    "print 'Dimensionality of vectors:', vocab.vectors.shape"
   ]
  },
  {
   "cell_type": "markdown",
   "metadata": {},
   "source": [
    "The output of the second line indicates that the three words are stored in three rows and 64 columns (corresponding to 64 dimensions). We will extract this matrix and call it `V`:"
   ]
  },
  {
   "cell_type": "code",
   "execution_count": 25,
   "metadata": {
    "collapsed": false
   },
   "outputs": [
    {
     "name": "stdout",
     "output_type": "stream",
     "text": [
      "[[ 0.04385886 -0.02819623  0.12032904 -0.00762494 -0.07382352]\n",
      " [ 0.01124112 -0.09658684  0.06233474 -0.07492259 -0.05805509]\n",
      " [-0.01677367  0.03680834  0.11662219  0.14554526 -0.05508148]]\n"
     ]
    }
   ],
   "source": [
    "V = vocab.vectors\n",
    "print V[:, :5]  # display only first five columns for legibility"
   ]
  },
  {
   "cell_type": "markdown",
   "metadata": {},
   "source": [
    "This matrix is a representation of the lexicon since every row in the matrix can be uniquely mapped to a word in the lexicon."
   ]
  },
  {
   "cell_type": "markdown",
   "metadata": {},
   "source": [
    "### Representing word associations\n",
    "\n",
    "Now, we need to define relationships between words. This can be done in a form of a matrix $A$ containing $m$ rows and $m$ columns, where $m$ corresponds to the number of words in the lexicon ($m=3$ in the previous example).\n",
    "Thus, each row $i$ of a matrix corresponds to $i$-th word in the lexicon, and each column $j$ to the $j$-th word in the lexicon. Then, an association strength between the word $i$ and the word $j$ is defined as $A_{i,j}$. It is common to refer to the word $i$ as the cue, and the word $j$ as the target.\n",
    "\n",
    "The most simple implementation of a matrix $A$ is a binary realization where matrix elements are either zero or one. All $A_{i,j}=1$ can be then interpreted as \"words $i$ and $j$ are associated\" and all $A_{i,j}=0$ as \"words $i$ and $j$ are not associated\". $A_{i,j}$ can also be a real number, denoting the strength of the associative connection. Thus, larger numbers would correspond to a stronger associative relationship.\n",
    "\n",
    "For $i=j$ we have an auto-associative relationship as this is the strength of the association of a word with itself. This can be either set to one or zero (depending on the problem). In the following, we will set auto-associations to zero, which will result with a zero diagonal in the $A$ matrix. \n",
    "\n",
    "It is important to notice that the matrix A does not have to be symmetric as $A_{i,j} \\ne A_{j,i} $. For example, \"left\" might be associated most strongly with \"right\", while \"right\" could have an equally strong association with \"correct\" and \"left\"."
   ]
  },
  {
   "cell_type": "markdown",
   "metadata": {},
   "source": [
    "## Recovering associations of a word\n",
    "\n",
    "Given the two data structures defined in the previos section (matrices $V$ and $A$), we can derive equations that allow us to retrive word vectors that are associated with a given cue. In this example, the cue will be the word CAT and we aim to discover which words associate with it.\n",
    "\n",
    "For example, given the lexicon containing words `['HOUSE', 'MOUSE', 'CAT']`, and matrix $A$ defined as"
   ]
  },
  {
   "cell_type": "code",
   "execution_count": 26,
   "metadata": {
    "collapsed": true
   },
   "outputs": [],
   "source": [
    "A = np.array([\n",
    "        [.0, .1, .4],\n",
    "        [.2, .0, .6],\n",
    "        [.5, .8, .0]\n",
    "    ])"
   ]
  },
  {
   "cell_type": "markdown",
   "metadata": {},
   "source": [
    "we can recover words associated with the word CAT. Ideally the resulting vector is equal to `0.5*HOUSE + 0.8*MOUSE`, since the association strength between the word CAT and the word HOUSE is `0.5` and the association strength between CAT and MOUSE is `0.8`.\n",
    "Remember, the vectors HOUSE and MOUSE are farily dissimilar (as their dot product is below 0.1) so we can  recover the association strengths from the resulting vector by multiplying it with either HOUSE or MOUSE."
   ]
  },
  {
   "cell_type": "markdown",
   "metadata": {},
   "source": [
    "Before providing equations that realize this process, let us consider a (hopefully) intuitive explanation of the steps that yield the resulting vector `0.5*HOUSE + 0.8*MOUSE`.\n",
    "\n",
    "First, we multiply the matrix $V$ with the cue vector. This results in a new $m$-dimensional vector where all entries but a single one are less than 0.1. This occurs because the similarity between any two vectors in the vocabulary is less than 0.1. The single entry that is greater than 0.1 is equal to or close to 1, as that entry represents the dot product between the vector CAT and the cue vector (which we set to CAT)."
   ]
  },
  {
   "cell_type": "code",
   "execution_count": 27,
   "metadata": {
    "collapsed": false
   },
   "outputs": [
    {
     "data": {
      "text/plain": [
       "array([ 0.02292477,  0.03275846,  1.        ])"
      ]
     },
     "execution_count": 27,
     "metadata": {},
     "output_type": "execute_result"
    }
   ],
   "source": [
    "cue = vocab['CAT'].v       # extract vector for CAT from the vocabulary\n",
    "result = np.dot(V, cue)    # multiply it from the right\n",
    "result"
   ]
  },
  {
   "cell_type": "markdown",
   "metadata": {},
   "source": [
    "The resulting vector can be seen as an indexing vector: it will have \"1\" only at the position corresponding to the index of the cue word in the lexicon (in our case, CAT was the third word) and approximately all zeros elsewhere. Now, we need to \"extract\" the row of a matrix $A$ that corresponds to the position of \"1\"  in the indexing vector. This is the same as extracting association strengths of words associated with CAT, which is the third row of the $A$ matrix.\n",
    "\n",
    "To do so, we multiply the matrix $A^T$ with the resulting vector. The transpose is necessary because associations are encoded as $A_{i,j}$ where $i$ is the cue word, and $j$ is the target. If we multiplied the matrix $A$ (without transpose) with the vector `result`, we would extract the column of the matrix $A$ instead of a row (if this is still confusing, try multiplying A with [0, 0, 1] and then A.T with the same vector to see which one extracts the third row)."
   ]
  },
  {
   "cell_type": "code",
   "execution_count": 157,
   "metadata": {
    "collapsed": false
   },
   "outputs": [
    {
     "name": "stdout",
     "output_type": "stream",
     "text": [
      "Vector computed: [ 0.50655169  0.80229248  0.02882498]\n",
      "Original: [ 0.5  0.8  0. ]\n"
     ]
    }
   ],
   "source": [
    "assoc = np.dot(A.T, result)\n",
    "print 'Vector computed:', assoc\n",
    "print 'Original:', A[2]"
   ]
  },
  {
   "cell_type": "markdown",
   "metadata": {},
   "source": [
    "`assoc` contains \"extracted\" association strengths and now we can use them to recover the word vectors in the vocabulary corresponding to the associates of the cue vectors. Each vector in the vocabulary will be multiplied by the corresponding strength, yielding a final vector that will be a linear combination of all vectors in the vocabulary. However, vectors with low association strengths will be essentially mutliplied by zero, contributing little to the final representation. \n",
    "\n",
    "We can denote the final vector with:"
   ]
  },
  {
   "cell_type": "code",
   "execution_count": 29,
   "metadata": {
    "collapsed": false
   },
   "outputs": [],
   "source": [
    "final = np.dot(V.T, assoc)"
   ]
  },
  {
   "cell_type": "markdown",
   "metadata": {},
   "source": [
    "and explore its similarity with all vectors in the vocabulary:"
   ]
  },
  {
   "cell_type": "code",
   "execution_count": 31,
   "metadata": {
    "collapsed": false
   },
   "outputs": [
    {
     "name": "stdout",
     "output_type": "stream",
     "text": [
      "[ 0.52441166  0.81409595  0.06671943]\n"
     ]
    }
   ],
   "source": [
    "vec_sim = np.dot(V, final)\n",
    "print vec_sim"
   ]
  },
  {
   "cell_type": "markdown",
   "metadata": {},
   "source": [
    "The resulting similarities can be interpreted in the following way:"
   ]
  },
  {
   "cell_type": "code",
   "execution_count": 32,
   "metadata": {
    "collapsed": false
   },
   "outputs": [
    {
     "name": "stdout",
     "output_type": "stream",
     "text": [
      "The similarity between the word CAT and HOUSE is: 0.524411661452\n",
      "The similarity between the word CAT and MOUSE is: 0.814095952626\n",
      "The similarity between the word CAT and CAT is: 0.0667194267228\n"
     ]
    }
   ],
   "source": [
    "for i, word in enumerate(lexicon):\n",
    "    print 'The similarity between the word CAT and', word, 'is:', vec_sim[i]"
   ]
  },
  {
   "cell_type": "markdown",
   "metadata": {},
   "source": [
    "After inspecting the third row of the matrix $A$:"
   ]
  },
  {
   "cell_type": "code",
   "execution_count": 34,
   "metadata": {
    "collapsed": false
   },
   "outputs": [
    {
     "data": {
      "text/plain": [
       "array([ 0.5,  0.8,  0. ])"
      ]
     },
     "execution_count": 34,
     "metadata": {},
     "output_type": "execute_result"
    }
   ],
   "source": [
    "A[2]"
   ]
  },
  {
   "cell_type": "markdown",
   "metadata": {},
   "source": [
    "We can notice that the recovered association strengths are very close to the ones defined by the matrix $A$. The noise in the representation comes from vectors which are to some extent overlapping and can be reduced by enforcing a lower similarity constraint."
   ]
  },
  {
   "cell_type": "markdown",
   "metadata": {},
   "source": [
    "Finally, the process leading to the final vector $v$ can be expressed as $V^T A^T V$ where the final vector $v$ is obtained by mutliplying the expression with the cue vector $c$ from the right: $v=V^T A^T V c$."
   ]
  },
  {
   "cell_type": "markdown",
   "metadata": {},
   "source": [
    "## Nengo Implementation"
   ]
  },
  {
   "cell_type": "markdown",
   "metadata": {},
   "source": [
    "The example provided so far can be easily implemented in Nengo. Connections between neurons are used to implement transformations.\n",
    "\n",
    "Therefore, we can define two populations of neurons (`spa.State`) *cue* and *target* and implement the expression $V^T A^T V$ as the transformation between the two populations:\n"
   ]
  },
  {
   "cell_type": "code",
   "execution_count": 164,
   "metadata": {
    "collapsed": false
   },
   "outputs": [],
   "source": [
    "d = 64\n",
    "with spa.SPA('Associations') as model:\n",
    "    model.cue = spa.State(vocab=vocab, dimensions=d)\n",
    "    model.target = spa.State(vocab=vocab, dimensions=d)\n",
    "\n",
    "    nengo.Connection(model.cue.output,\n",
    "                     model.target.input,\n",
    "                     transform=np.dot(V.T, np.dot(A.T, V))\n",
    "                    )"
   ]
  },
  {
   "cell_type": "markdown",
   "metadata": {},
   "source": [
    "When a vector is represented in the `model.cue` network of neurons, it will be transformed according to the rule on the connection. Here, only a linear transform is used and the represented vector will be multiplied from the right with the expression provided by the `transform` keyword.\n",
    "\n",
    "After we have defined the model, we can present the word CAT, MOUSE and HOUSE for 0.5 sec each at the input:"
   ]
  },
  {
   "cell_type": "code",
   "execution_count": 165,
   "metadata": {
    "collapsed": false
   },
   "outputs": [],
   "source": [
    "def f_input(t):\n",
    "    if 0 < t < 0.5:\n",
    "        return 'CAT'\n",
    "    elif 0.5 < t < 1.0:\n",
    "        return 'MOUSE'\n",
    "    else:\n",
    "        return 'HOUSE'\n",
    "\n",
    "with model:\n",
    "    model.inp = spa.Input(cue=f_input)\n",
    "    cue_probe = nengo.Probe(model.cue.input)\n",
    "    target_probe = nengo.Probe(model.target.input)"
   ]
  },
  {
   "cell_type": "markdown",
   "metadata": {},
   "source": [
    "And run the model for 1.5 seconds:"
   ]
  },
  {
   "cell_type": "code",
   "execution_count": 166,
   "metadata": {
    "collapsed": false
   },
   "outputs": [
    {
     "name": "stdout",
     "output_type": "stream",
     "text": [
      "Building finished in 0:00:02.                                                   \n",
      "Simulating finished in 0:00:02.                                                 \n"
     ]
    }
   ],
   "source": [
    "with nengo.Simulator(model) as sim:\n",
    "    sim.run(1.5)"
   ]
  },
  {
   "cell_type": "markdown",
   "metadata": {},
   "source": [
    "Now, we collect the simulation results and display them:"
   ]
  },
  {
   "cell_type": "code",
   "execution_count": 167,
   "metadata": {
    "collapsed": false
   },
   "outputs": [],
   "source": [
    "t = sim.trange()\n",
    "\n",
    "input_data = sim.data[cue_probe]\n",
    "output_data = sim.data[target_probe]"
   ]
  },
  {
   "cell_type": "code",
   "execution_count": 168,
   "metadata": {
    "collapsed": false
   },
   "outputs": [
    {
     "data": {
      "image/png": "[encoded data removed]",
      "text/plain": [
       "<matplotlib.figure.Figure at 0x7f5ccc576050>"
      ]
     },
     "metadata": {},
     "output_type": "display_data"
    }
   ],
   "source": [
    "ymin, ymax = -1.2, 1.2\n",
    "plt.figure(figsize=(6, 4))\n",
    "\n",
    "true = np.ones((len(t), 3))\n",
    "true[:500] *= A[2]\n",
    "true[500:1000] *= A[1]\n",
    "true[1000:] *= A[0]\n",
    "\n",
    "plt.plot(t, spa.similarity(output_data, vocab))\n",
    "plt.plot(t, true, color='k')\n",
    "plt.title(\"Output similarity\")\n",
    "plt.xlabel(\"Time\")\n",
    "plt.xlim(right=t[-1])\n",
    "plt.ylim(ymin, ymax)\n",
    "plt.autoscale(True, axis='y')\n",
    "plt.grid(True)\n",
    "plt.legend(\n",
    "    vocab.keys+['Original values from A matrix'], loc='upper center', bbox_to_anchor=(0.5, -0.13), ncol=3)\n",
    "plt.tight_layout()\n",
    "plt.show()"
   ]
  },
  {
   "cell_type": "markdown",
   "metadata": {},
   "source": [
    "For the first 0.5 seconds the cue was CAT and we see that the model recovered good approximations of the words associated with CAT. It recognizes that CAT and MOUSE are associated with 0.8 and CAT and HOUSE with 0.5\n",
    "\n",
    "For the time interval between 0.5 sec and 1.0 sec the cue word was MOUSE. Again, the model correctly recognized that MOUSE and CAT are associated with 0.6 and MOUSE and HOUSE with approximately 0.2. \n",
    "\n",
    "Finally, in the last 0.5 sec the word HOUSE was used as a cue. The model recovered correct association between the word HOUSE and CAT (0.4) and HOUSE and MOUSE (0.1)."
   ]
  },
  {
   "cell_type": "markdown",
   "metadata": {},
   "source": [
    "## Some Considerations\n",
    "\n",
    "The approach presented here is just one way of implementing words and associations. This approach has been used in the spiking neural network model of the Remote Associates Test (Kajic et al, 2016). Unlike other vector-based representations (e.g., word2vec, LSA derived vectors) it delineates association information from the representation of vectors. Therefore, taking a dot product between two vectors does not reveal any information about their semantic relatedness. Instead, any information about their semantics is stored separately and can be manipulated independently of vector representations (e.g., different sources of associative strengths can be used and compared).\n",
    " \n",
    "The success of this approach depends on the low similarity between vectors. However, this is a standard assumption when working with the SPA. One concern might relate to the scalability, as increasing the number of items in the vocabulary increases the size of matrices, and matrix multiplication is a computationally expensive operation.\n",
    "In addition, the current implementation of sampling random vectors with SPA is not optimized, so the dimensionality of word vectors might also need to be increased with more words to keep the similarity constraint satisfied."
   ]
  }
 ],
 "metadata": {
  "kernelspec": {
   "display_name": "Python 2",
   "language": "python",
   "name": "python2"
  },
  "language_info": {
   "codemirror_mode": {
    "name": "ipython",
    "version": 2
   },
   "file_extension": ".py",
   "mimetype": "text/x-python",
   "name": "python",
   "nbconvert_exporter": "python",
   "pygments_lexer": "ipython2",
   "version": "2.7.9"
  }
 },
 "nbformat": 4,
 "nbformat_minor": 1
}
